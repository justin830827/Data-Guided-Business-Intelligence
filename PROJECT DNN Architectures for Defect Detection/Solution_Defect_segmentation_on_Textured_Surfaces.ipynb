{
 "cells": [
  {
   "cell_type": "markdown",
   "metadata": {
    "colab_type": "text",
    "id": "S-fSL1r2fQ7Z"
   },
   "source": [
    "We will use the Industrial Optical Inspection Dataset. \n",
    "The blocks given below will help you copy and unzip the data from google drive.\n",
    "\n",
    "---\n",
    "\n",
    "\n",
    "The dataset description can be found here : https://hci.iwr.uni-heidelberg.de/node/3616"
   ]
  },
  {
   "cell_type": "markdown",
   "metadata": {
    "colab_type": "text",
    "id": "DymbI5OJIuFF"
   },
   "source": [
    "# Google Colab\n",
    "Importing data to Google Colab"
   ]
  },
  {
   "cell_type": "code",
   "execution_count": 0,
   "metadata": {
    "colab": {},
    "colab_type": "code",
    "id": "zDP8dGDEfHM2"
   },
   "outputs": [],
   "source": [
    "from google.colab import drive\n",
    "drive.mount('/content/gdrive')"
   ]
  },
  {
   "cell_type": "code",
   "execution_count": 0,
   "metadata": {
    "colab": {},
    "colab_type": "code",
    "id": "3on7wPL6mBF2"
   },
   "outputs": [],
   "source": [
    "# Copy data to google colab from google drive and unzip\n",
    "# This may take 1-2 minutes\n",
    "!cp gdrive/My\\ Drive/optical_data.zip .\n",
    "!unzip optical_data.zip"
   ]
  },
  {
   "cell_type": "code",
   "execution_count": 0,
   "metadata": {
    "colab": {
     "base_uri": "https://localhost:8080/",
     "height": 63
    },
    "colab_type": "code",
    "id": "w_-5AVwxm7d5",
    "outputId": "315d31ae-eae0-425a-ab3d-c2b36fd122a9"
   },
   "outputs": [
    {
     "name": "stdout",
     "output_type": "stream",
     "text": [
      "Class1\tClass2\tClass3\tClass4\tClass5\tClass6\tClass7\n"
     ]
    }
   ],
   "source": [
    "# You should be able to see 7 Classes here\n",
    "# Class1 Class2\tClass3\tClass4\tClass5\tClass6\tClass7\n",
    "!ls data"
   ]
  },
  {
   "cell_type": "markdown",
   "metadata": {
    "colab_type": "text",
    "id": "H-GSOCv7ImGM"
   },
   "source": [
    "# Main Notebook"
   ]
  },
  {
   "cell_type": "code",
   "execution_count": 0,
   "metadata": {
    "colab": {
     "base_uri": "https://localhost:8080/",
     "height": 34
    },
    "colab_type": "code",
    "id": "2p453M9kewcU",
    "outputId": "25d06e49-9c17-4dfc-e2db-39377626fb54"
   },
   "outputs": [
    {
     "name": "stderr",
     "output_type": "stream",
     "text": [
      "Using TensorFlow backend.\n"
     ]
    }
   ],
   "source": [
    "import os\n",
    "import sys\n",
    "import time\n",
    "import warnings\n",
    "from random import shuffle\n",
    "\n",
    "import numpy as np\n",
    "import pandas as pd\n",
    "from keras.callbacks import ModelCheckpoint, EarlyStopping\n",
    "from keras.optimizers import Adam\n",
    "from sklearn.model_selection import train_test_split\n",
    "from tensorflow.python.lib.io import file_io\n",
    "from skimage.transform import resize\n",
    "import numpy as np\n",
    "import keras\n",
    "from keras import backend as K\n",
    "import cv2\n",
    "\n",
    "warnings.filterwarnings(\"ignore\")\n"
   ]
  },
  {
   "cell_type": "markdown",
   "metadata": {
    "colab_type": "text",
    "id": "P6Rilzb2Lnhz"
   },
   "source": [
    "# Data Loading"
   ]
  },
  {
   "cell_type": "code",
   "execution_count": 0,
   "metadata": {
    "colab": {},
    "colab_type": "code",
    "id": "PFUOmRq1hChy"
   },
   "outputs": [],
   "source": [
    "# Not all data in the dataset has defects. We only use the images which have defects\n",
    "# This function takes the dataset_type as a parameter. You can pass \"Train\" or \"Test\"\n",
    "# as argument to get the appropriate dataset\n",
    "def load_data(dataset_type=\"Train\"):\n",
    "    file_list = {}\n",
    "    defect_map = {}\n",
    "    file_name = []\n",
    "    file_mask = []\n",
    "    count = 0\n",
    "    num_classes = 6\n",
    "\n",
    "    data_dir = \"data\"\n",
    "    for x in range(1, num_classes + 1):\n",
    "        path = os.path.join(os.path.join(data_dir, \"Class\" + str(x)), dataset_type)\n",
    "        df = pd.read_fwf(path + \"/Label/Labels.txt\")\n",
    "        count = 0\n",
    "        for i in range(0, len(df)):\n",
    "            curr_file = path + \"/\" + str(df.iloc[i][2])\n",
    "            if (df.iloc[i][1] == 1):\n",
    "                file_list[curr_file] = path + \"/Label/\" + str(df.iloc[i][4])\n",
    "                defect_map[curr_file] = 1\n",
    "            else:\n",
    "                fnametest = str(df.iloc[i][2]).split(\".\")\n",
    "                file_list[curr_file] = str(path + \"/Label/\" + fnametest[0] + \"_label.PNG\")\n",
    "                defect_map[curr_file] = 0\n",
    "\n",
    "    items = list(file_list.keys())\n",
    "    shuffle(items)\n",
    "    for key in items:\n",
    "        if ((not os.path.exists(key)) or (not os.path.exists(file_list[key]))):\n",
    "            # print (\"Missing mask for \", key)\n",
    "            continue\n",
    "\n",
    "        if defect_map[key] == 1:\n",
    "            file_name.append(key)\n",
    "            file_mask.append(file_list[key])\n",
    "        elif count < 80 * num_classes:\n",
    "            file_name.append(key)\n",
    "            file_mask.append(file_list[key])\n",
    "            count = count + 1\n",
    "\n",
    "    return file_name, file_mask"
   ]
  },
  {
   "cell_type": "markdown",
   "metadata": {
    "colab_type": "text",
    "id": "YMvNNG8nLq1N"
   },
   "source": [
    "Since the dataset is so large that it cannot fit into memory, we will need to use generator functions to iteratively load the dataset"
   ]
  },
  {
   "cell_type": "code",
   "execution_count": 0,
   "metadata": {
    "colab": {},
    "colab_type": "code",
    "id": "0AO5Je2_iyjI"
   },
   "outputs": [],
   "source": [
    "# This is generator class to process data in batches and send them for training\n",
    "class Surface_Generator(keras.utils.Sequence):\n",
    "\n",
    "    def __init__(self, image_filenames, labels, batch_size, test=False):\n",
    "        self.image_filenames, self.labels = image_filenames, labels\n",
    "        self.batch_size = batch_size\n",
    "\n",
    "    # return the total number of batches you have i.e., total_files/batch_size\n",
    "    def __len__(self):\n",
    "        # YOUR CODE HERE\n",
    "        return int(np.ceil(len(self.image_filenames) / float(self.batch_size)))\n",
    "\n",
    "    # this function is called for every mini-batch to get the images/masks for that mini-batch\n",
    "    def __getitem__(self, idx):\n",
    "        batch_x = self.image_filenames[idx * self.batch_size:(idx + 1) * self.batch_size]\n",
    "        batch_y = self.labels[idx * self.batch_size:(idx + 1) * self.batch_size]\n",
    "        image_arr = []\n",
    "        mask_arr = []\n",
    "        # Open a batch of images and their corresponding masks using cv2.imread\n",
    "        # resize them to 512x512x1 and return an np.array of images and masks\n",
    "        # YOUR CODE HERE\n",
    "        for file_name in batch_x:\n",
    "            if not os.path.isfile(file_name):\n",
    "                print (file_name)\n",
    "\n",
    "            img = resize(cv2.imread(file_name, 0), (512, 512, 1), mode='constant')\n",
    "            image_arr.append(img)\n",
    "\n",
    "        for file_name in batch_y:\n",
    "            if not os.path.isfile(file_name):\n",
    "                print (file_name)\n",
    "\n",
    "            img = resize(cv2.imread(file_name, 0), (512, 512, 1), mode='constant')\n",
    "            mask_arr.append(img)\n",
    "\n",
    "        return np.array(image_arr).astype(np.float32), np.array(mask_arr).astype(np.float32)\n",
    "    \n",
    "    # for testing we need to get the list of all true masks\n",
    "    # this function should return all the labels in the dataset set \n",
    "    # we will call this function only for the \"Test\" dataset\n",
    "    def get_all_masks(self):\n",
    "        mask_arr = []\n",
    "        \n",
    "        # YOUR CODE HERE\n",
    "        for file_name in self.labels:\n",
    "            img = resize(cv2.imread(file_name, 0), (512, 512, 1), mode='constant')\n",
    "            mask_arr.append(img)\n",
    "\n",
    "        return np.array(mask_arr).astype(np.float32)\n"
   ]
  },
  {
   "cell_type": "code",
   "execution_count": 0,
   "metadata": {
    "colab": {},
    "colab_type": "code",
    "id": "dt-r8DWtiXb8"
   },
   "outputs": [],
   "source": [
    "# Since we already have a split for training and test set,\n",
    "# we just need to split training set to get a validation set\n",
    "\n",
    "# Load training data\n",
    "X, Y = load_data(\"Train\")"
   ]
  },
  {
   "cell_type": "code",
   "execution_count": 0,
   "metadata": {
    "colab": {
     "base_uri": "https://localhost:8080/",
     "height": 34
    },
    "colab_type": "code",
    "id": "yCCf5m26iZ4-",
    "outputId": "475e9328-dd87-4609-f5b8-6453ec96f7d7"
   },
   "outputs": [
    {
     "name": "stdout",
     "output_type": "stream",
     "text": [
      "(740,) (740,) (186,) (186,)\n"
     ]
    }
   ],
   "source": [
    "# Split the original training data to get training and validation set\n",
    "# to get X_train, X_val, y_train, y_val\n",
    "# YOUR CODE HERE\n",
    "X_train, X_val, y_train, y_val = train_test_split(X, Y, test_size=0.20)\n",
    "\n",
    "# Convert to numpy arrays\n",
    "# YOUR CODE HERE\n",
    "X_train = np.array(X_train)\n",
    "X_val = np.array(X_val)\n",
    "y_train = np.array(y_train)\n",
    "y_val = np.array(y_val)\n",
    "\n",
    "print(X_train.shape, y_train.shape, X_val.shape, y_val.shape)"
   ]
  },
  {
   "cell_type": "markdown",
   "metadata": {
    "colab_type": "text",
    "id": "pzVG7OlIKzPC"
   },
   "source": [
    "The output shape after the split should be \n",
    "(740,) (740,) (186,) (186,)"
   ]
  },
  {
   "cell_type": "code",
   "execution_count": 0,
   "metadata": {
    "colab": {
     "base_uri": "https://localhost:8080/",
     "height": 34
    },
    "colab_type": "code",
    "id": "TuWAS7_Qt7xw",
    "outputId": "32638339-a2d6-4979-9d6c-9207d9d805ea"
   },
   "outputs": [
    {
     "data": {
      "text/plain": [
       "451"
      ]
     },
     "execution_count": 35,
     "metadata": {
      "tags": []
     },
     "output_type": "execute_result"
    }
   ],
   "source": [
    "# Free memory\n",
    "import gc\n",
    "del X\n",
    "del Y\n",
    "gc.collect()"
   ]
  },
  {
   "cell_type": "markdown",
   "metadata": {
    "colab_type": "text",
    "id": "Pg95L-qULPUY"
   },
   "source": [
    "# Metrics\n",
    "\n",
    "Use keras.backend to calculate dice coefficient metric and dice coefficient loss function.\n",
    "\n",
    "Recall that dice_coeff = 2 \\* intersection / union\n",
    "\n",
    "We add a smoothing parameter and modify the formula to\n",
    "\n",
    "dice_coeff = 2 \\* (intersection + smooth) / (union + smooth)\n",
    "\n",
    "Our objective is to make dice_coeff as close to 1.0 as possible. \n",
    "Define and use the appropriate loss function."
   ]
  },
  {
   "cell_type": "code",
   "execution_count": 0,
   "metadata": {
    "colab": {},
    "colab_type": "code",
    "id": "JwdFSKS-jB8S"
   },
   "outputs": [],
   "source": [
    "# Dice Coefficient metric\n",
    "def dice_coef(y_true, y_pred):\n",
    "    smooth = 1\n",
    "    # YOUR CODE HERE\n",
    "    y_true_f = K.flatten(y_true)\n",
    "    y_pred_f = K.flatten(y_pred)\n",
    "    intersection = K.sum(y_true_f * y_pred_f)\n",
    "    return (2. * intersection + smooth) / (K.sum(y_true_f) + K.sum(y_pred_f) + smooth)\n",
    "\n",
    "\n",
    "# Dice Coefficient loss\n",
    "def dice_coef_loss(y_true, y_pred):\n",
    "    # YOUR CODE HERE\n",
    "    return 1-dice_coef(y_true, y_pred)"
   ]
  },
  {
   "cell_type": "markdown",
   "metadata": {
    "colab_type": "text",
    "id": "Pynq8QkQMQfV"
   },
   "source": [
    "# Model\n",
    "\n",
    "U-net architeture has proved to be very powerful for segmentation tasks.\n",
    "\n",
    "We will be creating a Unet model based on the paper : \n",
    "\n",
    "[U-Net: Convolutional Networks for Biomedical Image Segmentation](https://arxiv.org/pdf/1505.04597.pdf)\n",
    "\n",
    "---\n",
    "\n",
    "A picture of the architecture we plan to use is provided in the project description pdf.\n",
    "\n",
    "We will create a Convolutional block module to help us build the model.\n",
    "\n",
    "Each convolutional block module will contain two trainable layers. \n",
    "\n",
    "Each layer will be a Convolution operation followed by batch normalization with relu activation.\n",
    "\n",
    "\n",
    "\n",
    "The U-net architecture has a contracting path, a convolution and then an expansive path.\n",
    "\n",
    "We will use instances of the convolutional block to create the contracting and expansive path."
   ]
  },
  {
   "cell_type": "code",
   "execution_count": 0,
   "metadata": {
    "colab": {},
    "colab_type": "code",
    "id": "NmHn08ChjWNq"
   },
   "outputs": [],
   "source": [
    "from keras.layers import Conv2DTranspose, Dropout, Activation, BatchNormalization, UpSampling2D, Concatenate\n",
    "from keras.layers import Input, Conv2D, MaxPooling2D, concatenate\n",
    "from keras.models import Model\n",
    "\n",
    "# Create a 2D convolution block. We will use multiple instances of this block to build our U-net model\n",
    "# This block will contain two layers. \n",
    "# Each layer will be a Convolution operation followed by batch normalization with relu activation \n",
    "def conv2d_block(input_tensor, n_filters, kernel_size):\n",
    "    # first layer\n",
    "    # Create a Conv2D layer with n_filters and a kernel of dimension : kernel_size x kernel_size. \n",
    "    # Use same padding and he_normal initializer\n",
    "    # YOUR CODE HERE\n",
    "    x = Conv2D(filters=n_filters, kernel_size=(kernel_size, kernel_size), kernel_initializer=\"he_normal\",\n",
    "               padding=\"same\")(input_tensor)\n",
    "    \n",
    "    # add a BatchNormalization layer\n",
    "    # YOUR CODE HERE\n",
    "    x = BatchNormalization()(x)\n",
    "        \n",
    "    # Add a relu non-linearity (keras.layers.Activation)\n",
    "    # YOUR CODE HERE\n",
    "    x = Activation(\"relu\")(x)\n",
    "\n",
    "    # second layer\n",
    "    # repeat the above steps (Conv + batchnorm + relu) taking the output of relu layer as input for this convolutional layer\n",
    "    # YOUR CODE HERE\n",
    "    x = Conv2D(filters=n_filters, kernel_size=(kernel_size, kernel_size), kernel_initializer=\"he_normal\",\n",
    "               padding=\"same\")(x)\n",
    "    x = BatchNormalization()(x)\n",
    "    x = Activation(\"relu\")(x)\n",
    "\n",
    "    # return the output tensor\n",
    "    return x\n",
    "\n",
    "\n",
    "def get_unet_model(n_filters=16, dropout_prob=0.5, kernel_size=3):\n",
    "    input_img = Input((512, 512, 1))\n",
    "    \n",
    "    # contracting path\n",
    "    # create a convolutional block with input_img as the input tensor and n_filters\n",
    "    # YOUR CODE HERE\n",
    "    # c1 = ...\n",
    "    c1 = conv2d_block(input_img, n_filters * 1, kernel_size)\n",
    "    # apply a 2d maxpooling with a pool size of 2x2\n",
    "    # YOUR CODE HERE\n",
    "    # p1 = ...\n",
    "    p1 = MaxPooling2D((2, 2))(c1)\n",
    "    # add a dropout. Since this the input, set the dropout rate to 0.2\n",
    "    # YOUR CODE HERE\n",
    "    # p1 = ...\n",
    "    p1 = Dropout(dropout_prob * 0.5)(p1)\n",
    "\n",
    "    # create another convolutional block. this time use p1 as input tensor and twice the n_filters\n",
    "    # repeat the same maxpool and dropout but set dropout rate to dropout_prob this time\n",
    "    # YOUR CODE HERE\n",
    "    # c2 = ...\n",
    "    # p2 = ...\n",
    "    # p2 = ...\n",
    "    c2 = conv2d_block(p1, n_filters * 2, kernel_size)\n",
    "    p2 = MaxPooling2D((2, 2))(c2)\n",
    "    p2 = Dropout(dropout_prob)(p2)\n",
    "\n",
    "    # create another block with maxpool and dropout with 4 x n_filters\n",
    "    # YOUR CODE HERE\n",
    "    # c3 = ...\n",
    "    # p3 = ...\n",
    "    # p3 = ...\n",
    "    c3 = conv2d_block(p2, n_filters * 4, kernel_size)\n",
    "    p3 = MaxPooling2D((2, 2))(c3)\n",
    "    p3 = Dropout(dropout_prob)(p3)\n",
    "\n",
    "    # create another block with maxpool and dropout with 8 x n_filters\n",
    "    # YOUR CODE HERE\n",
    "    # c4 = ...\n",
    "    # p4 = ...\n",
    "    # p4 = ...\n",
    "    c4 = conv2d_block(p3, n_filters * 8, kernel_size)\n",
    "    p4 = MaxPooling2D(pool_size=(2, 2))(c4)\n",
    "    p4 = Dropout(dropout_prob)(p4)\n",
    "\n",
    "    # This is the layer where we combine the contractive and expansive paths\n",
    "    # create a convolutional block with 16 x n_filters. No pooling/dropout this time\n",
    "    # YOUR CODE HERE\n",
    "    # c5 = ...\n",
    "    c5 = conv2d_block(p4, n_filters * 16, kernel_size)\n",
    "\n",
    "    # Expansive path\n",
    "\n",
    "    # We will create a similar structure as the contracting path but instead of \n",
    "    # convolutional operation, we will use Deconvolution operations\n",
    "\n",
    "    # Create a Conv2DTranspose layer (deconvolution) with 8 x n_filters, kernel_size, \n",
    "    # 2x2 strides and same padding\n",
    "    # YOUR CODE HERE\n",
    "    # u6 = ...\n",
    "    u6 = Conv2DTranspose(n_filters * 8, kernel_size, strides=(2, 2), padding='same')(c5)\n",
    "    # Concatenate u6 and c4 using keras.layers.concatenate\n",
    "    # YOUR CODE HERE\n",
    "    # u6 = ...\n",
    "    u6 = concatenate([u6, c4])\n",
    "    # dropout\n",
    "    # YOUR CODE HERE\n",
    "    # u6 = ...\n",
    "    u6 = Dropout(dropout_prob)(u6)\n",
    "    # create a convolutional block with 8 x n_filters\n",
    "    # YOUR CODE HERE\n",
    "    # c6 = ...\n",
    "    c6 = conv2d_block(u6, n_filters * 8, kernel_size)\n",
    "\n",
    "    # Create a similar module as previous, deconv, concatenate, dropout, conv2d_block\n",
    "    # Please ensure that the number of filters you use match the n_filters of \n",
    "    # the layer you are concatenating with\n",
    "    # YOUR CODE HERE\n",
    "    # u7 = ...\n",
    "    # u7 = ...\n",
    "    # u7 = ...\n",
    "    # c7 = ...\n",
    "    u7 = Conv2DTranspose(n_filters * 4, kernel_size, strides=(2, 2), padding='same')(c6)\n",
    "    u7 = concatenate([u7, c3])\n",
    "    u7 = Dropout(dropout_prob)(u7)\n",
    "    c7 = conv2d_block(u7, n_filters * 4, kernel_size)\n",
    "\n",
    "    # Create a similar module as previous, deconv, concatenate, dropout, conv2d_block\n",
    "    # YOUR CODE HERE\n",
    "    # u8 = ...\n",
    "    # u8 = ...\n",
    "    # u8 = ...\n",
    "    # c8 = ...\n",
    "    u8 = Conv2DTranspose(n_filters * 2, kernel_size, strides=(2, 2), padding='same')(c7)\n",
    "    u8 = concatenate([u8, c2])\n",
    "    u8 = Dropout(dropout_prob)(u8)\n",
    "    c8 = conv2d_block(u8, n_filters * 2, kernel_size)\n",
    "\n",
    "    # Create a similar module as previous, deconv, concatenate, dropout, conv2d_block\n",
    "    # YOUR CODE HERE\n",
    "    # u9 = ...\n",
    "    # u9 = ...\n",
    "    # u9 = ...\n",
    "    # c9 = ...\n",
    "    u9 = Conv2DTranspose(n_filters * 1, kernel_size, strides=(2, 2), padding='same')(c8)\n",
    "    u9 = concatenate([u9, c1], axis=3)\n",
    "    u9 = Dropout(dropout_prob)(u9)\n",
    "    c9 = conv2d_block(u9, n_filters * 1, kernel_size)\n",
    "\n",
    "    # apply a 1x1 convolution on c9 to get an output with a single channel\n",
    "    # This is the final model output. We want the pixel values in the mask to be\n",
    "    # either 0 or 1. Choose an activation function which can give values in that\n",
    "    # range.\n",
    "    # YOUR CODE HERE\n",
    "    # outputs = ...\n",
    "    outputs = Conv2D(1, (1, 1), activation='sigmoid')(c9)\n",
    "\n",
    "    model = Model(inputs=[input_img], outputs=[outputs])\n",
    "\n",
    "    return model"
   ]
  },
  {
   "cell_type": "code",
   "execution_count": 0,
   "metadata": {
    "colab": {},
    "colab_type": "code",
    "id": "9JBg48_qiQ_R"
   },
   "outputs": [],
   "source": [
    "model_name = \"unet\"\n",
    "if not os.path.exists(model_name):\n",
    "    os.makedirs(model_name)\n",
    "\n",
    "\n",
    "model = get_unet_model()"
   ]
  },
  {
   "cell_type": "code",
   "execution_count": 0,
   "metadata": {
    "colab": {},
    "colab_type": "code",
    "id": "motKXf_TiUKg"
   },
   "outputs": [],
   "source": [
    "batch_size = 8\n",
    "num_epochs = 50\n",
    "# Compile the model\n",
    "model.compile(loss=dice_coef_loss, optimizer=Adam(lr=0.0055), metrics=[dice_coef])"
   ]
  },
  {
   "cell_type": "code",
   "execution_count": 0,
   "metadata": {
    "colab": {},
    "colab_type": "code",
    "id": "ewQjQjWyqq-e"
   },
   "outputs": [],
   "source": [
    "# Create generator objects for training and validation\n",
    "# YOUR CODE HERE\n",
    "# training_batch_generator = Surface_Generator(...)\n",
    "# validation_batch_generator = Surface_Generator(...)\n",
    "\n",
    "num_training_samples = len(X_train)\n",
    "num_validation_samples = len(X_val)\n",
    "training_batch_generator = Surface_Generator(X_train, y_train, batch_size)\n",
    "validation_batch_generator = Surface_Generator(X_val, y_val, batch_size)"
   ]
  },
  {
   "cell_type": "code",
   "execution_count": 0,
   "metadata": {
    "colab": {},
    "colab_type": "code",
    "id": "_otO9PPuq2ED"
   },
   "outputs": [],
   "source": [
    "# OPTIONAL\n",
    "# callbacks for saving models and early stopping\n",
    "checkpointer = ModelCheckpoint(model_name + \"/weights.{epoch:02d}-{val_loss:.2f}.hdf5\", monitor=dice_coef, verbose=1,\n",
    "                               save_best_only=True, mode='max')\n",
    "early_stopping = EarlyStopping(monitor='val_loss', min_delta=0, patience=10, verbose=1, mode='auto')"
   ]
  },
  {
   "cell_type": "code",
   "execution_count": 0,
   "metadata": {
    "colab": {
     "base_uri": "https://localhost:8080/",
     "height": 1258
    },
    "colab_type": "code",
    "id": "63cNn_B6q4fb",
    "outputId": "7546a46c-2ca7-454b-cf02-d256447ae6d8"
   },
   "outputs": [
    {
     "name": "stdout",
     "output_type": "stream",
     "text": [
      "Epoch 1/50\n",
      "92/92 [==============================] - 107s 1s/step - loss: 0.9024 - dice_coef: 0.0976 - val_loss: 0.9754 - val_dice_coef: 0.0246\n",
      "Epoch 2/50\n",
      "Epoch 1/50\n",
      "91/92 [============================>.] - ETA: 0s - loss: 0.6390 - dice_coef: 0.3610Epoch 1/50\n",
      "92/92 [==============================] - 99s 1s/step - loss: 0.6361 - dice_coef: 0.3639 - val_loss: 0.9656 - val_dice_coef: 0.0344\n",
      "Epoch 3/50\n",
      "92/92 [==============================] - 98s 1s/step - loss: 0.6123 - dice_coef: 0.3877 - val_loss: 0.9456 - val_dice_coef: 0.0544\n",
      "Epoch 4/50\n",
      "92/92 [==============================] - 97s 1s/step - loss: 0.5925 - dice_coef: 0.4075 - val_loss: 0.8216 - val_dice_coef: 0.1784\n",
      "Epoch 5/50\n",
      "92/92 [==============================] - 98s 1s/step - loss: 0.6188 - dice_coef: 0.3812 - val_loss: 0.9507 - val_dice_coef: 0.0493\n",
      "Epoch 6/50\n",
      "92/92 [==============================] - 99s 1s/step - loss: 0.6423 - dice_coef: 0.3577 - val_loss: 0.9561 - val_dice_coef: 0.0439\n",
      "Epoch 7/50\n",
      "92/92 [==============================] - 97s 1s/step - loss: 0.5909 - dice_coef: 0.4091 - val_loss: 0.8147 - val_dice_coef: 0.1853\n",
      "Epoch 8/50\n",
      "92/92 [==============================] - 98s 1s/step - loss: 0.5856 - dice_coef: 0.4144 - val_loss: 0.9999 - val_dice_coef: 8.4894e-05\n",
      "Epoch 9/50\n",
      "92/92 [==============================] - 96s 1s/step - loss: 0.5602 - dice_coef: 0.4398 - val_loss: 0.9999 - val_dice_coef: 8.2604e-05\n",
      "Epoch 10/50\n",
      "92/92 [==============================] - 97s 1s/step - loss: 0.5630 - dice_coef: 0.4370 - val_loss: 0.7964 - val_dice_coef: 0.2036\n",
      "Epoch 11/50\n",
      "92/92 [==============================] - 97s 1s/step - loss: 0.5540 - dice_coef: 0.4460 - val_loss: 0.8778 - val_dice_coef: 0.1222\n",
      "Epoch 12/50\n",
      "92/92 [==============================] - 96s 1s/step - loss: 0.5342 - dice_coef: 0.4658 - val_loss: 0.7458 - val_dice_coef: 0.2542\n",
      "Epoch 13/50\n",
      "92/92 [==============================] - 98s 1s/step - loss: 0.5716 - dice_coef: 0.4284 - val_loss: 0.7925 - val_dice_coef: 0.2075\n",
      "Epoch 14/50\n",
      "92/92 [==============================] - 97s 1s/step - loss: 0.5269 - dice_coef: 0.4731 - val_loss: 0.7305 - val_dice_coef: 0.2695\n",
      "Epoch 15/50\n",
      "92/92 [==============================] - 97s 1s/step - loss: 0.5268 - dice_coef: 0.4732 - val_loss: 0.7815 - val_dice_coef: 0.2185\n",
      "Epoch 16/50\n",
      "92/92 [==============================] - 98s 1s/step - loss: 0.5547 - dice_coef: 0.4453 - val_loss: 0.8216 - val_dice_coef: 0.1784\n",
      "Epoch 17/50\n",
      "92/92 [==============================] - 96s 1s/step - loss: 0.5231 - dice_coef: 0.4769 - val_loss: 0.7245 - val_dice_coef: 0.2755\n",
      "Epoch 18/50\n",
      "92/92 [==============================] - 97s 1s/step - loss: 0.5432 - dice_coef: 0.4568 - val_loss: 0.9345 - val_dice_coef: 0.0655\n",
      "Epoch 19/50\n",
      "92/92 [==============================] - 98s 1s/step - loss: 0.5202 - dice_coef: 0.4798 - val_loss: 0.9797 - val_dice_coef: 0.0203\n",
      "Epoch 20/50\n",
      "92/92 [==============================] - 97s 1s/step - loss: 0.5412 - dice_coef: 0.4588 - val_loss: 0.7503 - val_dice_coef: 0.2497\n",
      "Epoch 21/50\n",
      "92/92 [==============================] - 96s 1s/step - loss: 0.5071 - dice_coef: 0.4929 - val_loss: 0.9551 - val_dice_coef: 0.0449\n",
      "Epoch 22/50\n",
      "92/92 [==============================] - 99s 1s/step - loss: 0.4956 - dice_coef: 0.5044 - val_loss: 0.7284 - val_dice_coef: 0.2716\n",
      "Epoch 23/50\n",
      "92/92 [==============================] - 98s 1s/step - loss: 0.4782 - dice_coef: 0.5218 - val_loss: 0.7752 - val_dice_coef: 0.2248\n",
      "Epoch 24/50\n",
      "92/92 [==============================] - 95s 1s/step - loss: 0.4611 - dice_coef: 0.5389 - val_loss: 0.7566 - val_dice_coef: 0.2434\n",
      "Epoch 25/50\n",
      "92/92 [==============================] - 98s 1s/step - loss: 0.5124 - dice_coef: 0.4876 - val_loss: 0.7244 - val_dice_coef: 0.2756\n",
      "Epoch 26/50\n",
      "91/92 [============================>.] - ETA: 0s - loss: 0.4735 - dice_coef: 0.5265\n",
      "92/92 [==============================] - 98s 1s/step - loss: 0.4783 - dice_coef: 0.5217 - val_loss: 0.8292 - val_dice_coef: 0.1708\n",
      "Epoch 27/50\n",
      "92/92 [==============================] - 97s 1s/step - loss: 0.5088 - dice_coef: 0.4912 - val_loss: 0.8881 - val_dice_coef: 0.1119\n",
      "Epoch 28/50\n",
      "92/92 [==============================] - 97s 1s/step - loss: 0.4735 - dice_coef: 0.5265 - val_loss: 0.8287 - val_dice_coef: 0.1713\n",
      "Epoch 29/50\n",
      "92/92 [==============================] - 97s 1s/step - loss: 0.5058 - dice_coef: 0.4942 - val_loss: 0.8130 - val_dice_coef: 0.1870\n",
      "Epoch 30/50\n",
      "92/92 [==============================] - 97s 1s/step - loss: 0.4858 - dice_coef: 0.5142 - val_loss: 0.7221 - val_dice_coef: 0.2779\n",
      "Epoch 31/50\n",
      "92/92 [==============================] - 97s 1s/step - loss: 0.4348 - dice_coef: 0.5652 - val_loss: 0.7111 - val_dice_coef: 0.2889\n",
      "Epoch 32/50\n",
      "92/92 [==============================] - 97s 1s/step - loss: 0.4643 - dice_coef: 0.5357 - val_loss: 0.7972 - val_dice_coef: 0.2028\n",
      "Epoch 33/50\n",
      "92/92 [==============================] - 96s 1s/step - loss: 0.4935 - dice_coef: 0.5065 - val_loss: 0.6510 - val_dice_coef: 0.3490\n",
      "Epoch 34/50\n",
      "92/92 [==============================] - 97s 1s/step - loss: 0.3593 - dice_coef: 0.6407 - val_loss: 0.7608 - val_dice_coef: 0.2392\n",
      "Epoch 35/50\n",
      "38/92 [===========>..................] - ETA: 47s - loss: 0.4318 - dice_coef: 0.5682"
     ]
    }
   ],
   "source": [
    "# Fit model\n",
    "# This will take ~1.5-2 minutes per epoch on a GPU\n",
    "stmillis = int(round(time.time() * 1000))\n",
    "history = model.fit_generator(generator=training_batch_generator,\n",
    "                    steps_per_epoch=(num_training_samples // batch_size),\n",
    "                    epochs=num_epochs,\n",
    "                    verbose=1,\n",
    "                    validation_data=validation_batch_generator,\n",
    "                    validation_steps=(num_validation_samples // batch_size),\n",
    "                    use_multiprocessing=True,\n",
    "                    workers=5,\n",
    "                    max_queue_size=1,\n",
    "                    callbacks=[checkpointer, early_stopping])\n",
    "endmillis = int(round(time.time() * 1000))\n",
    "print(\"Time taken: \", endmillis - stmillis)"
   ]
  },
  {
   "cell_type": "code",
   "execution_count": 0,
   "metadata": {
    "colab": {},
    "colab_type": "code",
    "id": "3brG4OSvidg-"
   },
   "outputs": [],
   "source": [
    "# Save the trained weights\n",
    "model.save(model_name + \".h5\")\n",
    "\n",
    "# Save model config as json\n",
    "model_json = model.to_json()\n",
    "with open(model_name + \".json\", \"w\") as json_file:\n",
    "    json_file.write(model_json)\n",
    "\n",
    "# Persist the model to your google drive [VERY IMPORTANT]\n",
    "!cp unet.* gdrive/My\\ Drive/"
   ]
  },
  {
   "cell_type": "code",
   "execution_count": 0,
   "metadata": {
    "colab": {
     "base_uri": "https://localhost:8080/",
     "height": 114
    },
    "colab_type": "code",
    "id": "gyQIv8vP-Bvr",
    "outputId": "2ab873f3-2187-4600-b45e-a3d170950273"
   },
   "outputs": [
    {
     "name": "stdout",
     "output_type": "stream",
     "text": [
      "-rw------- 1 root root 26259744 Feb 14 09:48 'gdrive/My Drive/unet_acc.h5'\n",
      "-rw------- 1 root root    33711 Feb 14 09:48 'gdrive/My Drive/unet_acc.json'\n",
      "-rw------- 1 root root 26259744 Feb 17 18:31 'gdrive/My Drive/unet.h5'\n",
      "-rw------- 1 root root    33711 Feb 17 18:31 'gdrive/My Drive/unet.json'\n"
     ]
    }
   ],
   "source": [
    "# Confirm if model did get saved\n",
    "!ls -ltr gdrive/My\\ Drive/unet*"
   ]
  },
  {
   "cell_type": "code",
   "execution_count": 0,
   "metadata": {
    "colab": {},
    "colab_type": "code",
    "id": "oXpPThkeAp30"
   },
   "outputs": [],
   "source": [
    "# In case you wish to load your saved model\n",
    "!cp gdrive/My\\ Drive/unet* .\n",
    "\n",
    "model.load_weights(\"unet.h5\")"
   ]
  },
  {
   "cell_type": "code",
   "execution_count": 0,
   "metadata": {
    "colab": {
     "base_uri": "https://localhost:8080/",
     "height": 34
    },
    "colab_type": "code",
    "id": "hfVKLvOSinhR",
    "outputId": "faa24933-a943-45d8-f4f5-dd90243db6fd"
   },
   "outputs": [
    {
     "name": "stdout",
     "output_type": "stream",
     "text": [
      "(454,) (454,)\n"
     ]
    }
   ],
   "source": [
    "import gc\n",
    "gc.collect()\n",
    "\n",
    "# Load test data in X_test and y_test\n",
    "# YOUR CODE HERE\n",
    "# X_test, y_test = ...\n",
    "X_test, y_test = load_data(\"Test\")\n",
    "X_test = np.array(X_test)\n",
    "y_test = np.array(y_test)\n",
    "print (X_test.shape, y_test.shape)"
   ]
  },
  {
   "cell_type": "markdown",
   "metadata": {
    "colab_type": "text",
    "id": "xDvVIz7eVDeJ"
   },
   "source": [
    "[OPTIONAL] Shuffle and select 25 elements for quick testing\n"
   ]
  },
  {
   "cell_type": "code",
   "execution_count": 0,
   "metadata": {
    "colab": {},
    "colab_type": "code",
    "id": "JW2AcXfX4ok1"
   },
   "outputs": [],
   "source": [
    "# np.random.seed = 629\n",
    "# p = np.random.permutation(len(X_test))\n",
    "# X_test = X_test[p][:25]\n",
    "# y_test = y_test[p][:25]"
   ]
  },
  {
   "cell_type": "code",
   "execution_count": 0,
   "metadata": {
    "colab": {},
    "colab_type": "code",
    "id": "WUDhmrOnzd1J"
   },
   "outputs": [],
   "source": [
    "# Predict using model.predict_generator().\n",
    "# YOUR CODE HERE\n",
    "# test_data_generator = ...\n",
    "# y_pred = ...\n",
    "\n",
    "test_data_generator = Surface_Generator(X_test, y_test, batch_size)\n",
    "y_pred = model.predict_generator(test_data_generator)"
   ]
  },
  {
   "cell_type": "code",
   "execution_count": 0,
   "metadata": {
    "colab": {
     "base_uri": "https://localhost:8080/",
     "height": 34
    },
    "colab_type": "code",
    "id": "y2yJe5T40aws",
    "outputId": "8738795f-655e-4683-e2b4-e5dcdb84c33f"
   },
   "outputs": [
    {
     "name": "stdout",
     "output_type": "stream",
     "text": [
      "Dice coefficient on test data:  0.6896006\n"
     ]
    }
   ],
   "source": [
    "# y_true will have the true masks\n",
    "y_true = test_data_generator.get_all_masks()\n",
    "print (\"Dice coefficient on test data: \", K.get_value(dice_coef(y_true, y_pred)))"
   ]
  },
  {
   "cell_type": "markdown",
   "metadata": {
    "colab_type": "text",
    "id": "rq51uM6fUoo8"
   },
   "source": [
    "The dice coefficient on test data should be close to 0.7\n",
    "\n"
   ]
  },
  {
   "cell_type": "markdown",
   "metadata": {
    "colab_type": "text",
    "id": "TVuJ6cCTfeXB"
   },
   "source": [
    "Visulaizing the mask for a random image"
   ]
  },
  {
   "cell_type": "code",
   "execution_count": 0,
   "metadata": {
    "colab": {},
    "colab_type": "code",
    "id": "kn447ZCDfAUd"
   },
   "outputs": [],
   "source": [
    "# Convert sigmoid outputs to binary class labels\n",
    "y_pred[20][y_pred[20] >= 0.5] = 1\n",
    "y_pred[20][y_pred[20] < 0.5] = 0"
   ]
  },
  {
   "cell_type": "code",
   "execution_count": 0,
   "metadata": {
    "colab": {
     "base_uri": "https://localhost:8080/",
     "height": 351
    },
    "colab_type": "code",
    "id": "HmUZiALBJcie",
    "outputId": "2ee37438-8a68-45ce-8192-ba93b44bb0f8"
   },
   "outputs": [
    {
     "data": {
      "image/png": "[encoded data removed]",
      "text/plain": [
       "<Figure size 576x396 with 1 Axes>"
      ]
     },
     "metadata": {
      "tags": []
     },
     "output_type": "display_data"
    }
   ],
   "source": [
    "import matplotlib.pyplot as plt\n",
    "plt.imshow(y_true[20][:,:,0], cmap='gray')\n",
    "plt.show()"
   ]
  },
  {
   "cell_type": "code",
   "execution_count": 0,
   "metadata": {
    "colab": {
     "base_uri": "https://localhost:8080/",
     "height": 351
    },
    "colab_type": "code",
    "id": "pn5Fkv9-JDiX",
    "outputId": "279681de-987d-441d-f0a1-1070f15f21ed"
   },
   "outputs": [
    {
     "data": {
      "image/png": "[encoded data removed]",
      "text/plain": [
       "<Figure size 576x396 with 1 Axes>"
      ]
     },
     "metadata": {
      "tags": []
     },
     "output_type": "display_data"
    }
   ],
   "source": [
    "plt.imshow(y_pred[20][:,:,0], cmap='gray')\n",
    "plt.show()"
   ]
  },
  {
   "cell_type": "code",
   "execution_count": 0,
   "metadata": {
    "colab": {
     "base_uri": "https://localhost:8080/",
     "height": 34
    },
    "colab_type": "code",
    "id": "isCQ_Cxpehpj",
    "outputId": "a2788719-3fbf-4fe4-f87a-3ca32acedcd6"
   },
   "outputs": [
    {
     "data": {
      "text/plain": [
       "0.8731282"
      ]
     },
     "execution_count": 223,
     "metadata": {
      "tags": []
     },
     "output_type": "execute_result"
    }
   ],
   "source": [
    "# Dice coefficient on this example\n",
    "K.get_value(dice_coef(y_true[20], y_pred[20]))"
   ]
  },
  {
   "cell_type": "markdown",
   "metadata": {
    "colab_type": "text",
    "id": "Z9PebgnFu3Yu"
   },
   "source": [
    "Data augmentation techniques almost always help in improving the performance of deep learning models.\n",
    "\n",
    "\n",
    "Try beating the result obtained above by doing some kind of data augmentation and leave the code/results in the jupyter file.\n",
    "\n",
    "Provide the dice coefficient obtained on the new model trained with data augmentation.\n",
    "\n",
    "---\n",
    "\n",
    "# Experimentation Zone\n",
    "You may write any custom code here. The data augmentation part will be evaluated from this region."
   ]
  },
  {
   "cell_type": "markdown",
   "metadata": {
    "colab_type": "text",
    "id": "ySN0EMaxx1c2"
   },
   "source": [
    "**SOLUTION**\n",
    "\n",
    "We can modify the generator class to augment data by doing simple scale, rotate or flip transformations\n",
    "This class demonstrates the following:\n",
    "1. rotate the image/mask by 90 degrees\n",
    "2. rotate the image/mask by 270 degrees\n",
    "3. flip the image/mask along the verical axis\n",
    "\n",
    "There are multiple ways to feed data after augmentation. Keras natively provides support for a lot of augmentation techniques.\n",
    "This class demonstrates a simple way to do augmentation."
   ]
  },
  {
   "cell_type": "code",
   "execution_count": 0,
   "metadata": {
    "colab": {},
    "colab_type": "code",
    "id": "wqXeVvmjvMPH"
   },
   "outputs": [],
   "source": [
    "class Surface_Augmented_Generator(keras.utils.Sequence):\n",
    "\n",
    "    def __init__(self, image_filenames, labels, batch_size):\n",
    "        self.image_filenames, self.labels = image_filenames, labels\n",
    "        self.batch_size = batch_size\n",
    "\n",
    "    def __len__(self):\n",
    "        return int(np.ceil(len(self.image_filenames) / float(self.batch_size)))\n",
    "\n",
    "    def __getitem__(self, idx):\n",
    "        batch_x = self.image_filenames[idx * self.batch_size:(idx + 1) * self.batch_size]\n",
    "        batch_y = self.labels[idx * self.batch_size:(idx + 1) * self.batch_size]\n",
    "        image_arr = []\n",
    "        mask_arr = []\n",
    "        for file_name in batch_x:\n",
    "            if not os.path.isfile(file_name):\n",
    "                print (file_name)\n",
    "\n",
    "            img = resize(cv2.imread(file_name, 0), (512, 512, 1), mode='constant')\n",
    "            image_arr.append(img)\n",
    "            \n",
    "            # Rotate image by 90/270 degrees\n",
    "            img = np.rot90(img)\n",
    "            image_arr.append(img)\n",
    "            img = np.rot270(img)\n",
    "            image_arr.append(img)\n",
    "            \n",
    "            # Flip the image along vertical axis\n",
    "            img = np.fliplr(img)\n",
    "            image_arr.append(img)\n",
    "\n",
    "        for file_name in batch_y:\n",
    "            if not os.path.isfile(file_name):\n",
    "                print (file_name)\n",
    "\n",
    "            img = resize(cv2.imread(file_name, 0), (512, 512, 1), mode='constant')\n",
    "            mask_arr.append(img)\n",
    "            \n",
    "            # Rotate mask by 90/270 degrees\n",
    "            img = np.rot90(img)\n",
    "            mask_arr.append(img)\n",
    "            img = np.rot270(img)\n",
    "            mask_arr.append(img)\n",
    "            \n",
    "            # Flip the mask horizontally\n",
    "            img = np.fliplr(img)\n",
    "            mask_arr.append(img)\n",
    "\n",
    "        return np.array(image_arr), np.array(mask_arr)"
   ]
  },
  {
   "cell_type": "code",
   "execution_count": 0,
   "metadata": {
    "colab": {},
    "colab_type": "code",
    "id": "ESSw1HXQwp8c"
   },
   "outputs": [],
   "source": [
    "# re-train model with new generator\n",
    "num_training_samples = len(X_train)\n",
    "num_validation_samples = len(X_val)\n",
    "batch_size = 8\n",
    "num_epochs = 50\n",
    "training_batch_generator = Surface_Augmented_Generator(X_train, y_train, batch_size)\n",
    "validation_batch_generator = Surface_Augmented_Generator(X_val, y_val, batch_size)"
   ]
  },
  {
   "cell_type": "code",
   "execution_count": 0,
   "metadata": {
    "colab": {},
    "colab_type": "code",
    "id": "KBBCa3RxyAbZ"
   },
   "outputs": [],
   "source": [
    "model = get_unet()\n",
    "model.compile(loss=dice_coef_loss, optimizer=Adam(lr=0.0055), metrics=[dice_coef])"
   ]
  },
  {
   "cell_type": "code",
   "execution_count": 0,
   "metadata": {
    "colab": {},
    "colab_type": "code",
    "id": "Xk54VUr8yKTb"
   },
   "outputs": [],
   "source": [
    "stmillis = int(round(time.time() * 1000))\n",
    "history = model.fit_generator(generator=training_batch_generator,\n",
    "                    steps_per_epoch=(num_training_samples // batch_size),\n",
    "                    epochs=num_epochs,\n",
    "                    verbose=1,\n",
    "                    validation_data=validation_batch_generator,\n",
    "                    validation_steps=(num_validation_samples // batch_size),\n",
    "                    use_multiprocessing=True,\n",
    "                    workers=5,\n",
    "                    max_queue_size=1,\n",
    "                    callbacks=[checkpointer, early_stopping])\n",
    "endmillis = int(round(time.time() * 1000))\n",
    "print(\"Time taken: \", endmillis - stmillis)"
   ]
  },
  {
   "cell_type": "code",
   "execution_count": 0,
   "metadata": {
    "colab": {},
    "colab_type": "code",
    "id": "OUNatDb8yPMA"
   },
   "outputs": [],
   "source": [
    "# Load test data in X_test and y_test\n",
    "# YOUR CODE HERE\n",
    "X_test, y_test = load_data(\"Test\")\n",
    "X_test = np.array(X_test)\n",
    "y_test = np.array(y_test)\n",
    "\n",
    "# Predict using model.predict_generator(). Store the predictions in y_pred\n",
    "# YOUR CODE HERE\n",
    "test_data_generator = Surface_Generator(X_test, y_test, batch_size)\n",
    "y_pred = model.predict_generator(test_data_generator)\n",
    "\n",
    "y_true = test_data_generator.get_all_masks()\n",
    "print (\"Dice coefficient on test data with augmented model: \", K.get_value(dice_coef(y_true, y_pred)))"
   ]
  },
  {
   "cell_type": "code",
   "execution_count": 0,
   "metadata": {
    "colab": {},
    "colab_type": "code",
    "id": "mFL6rvc4yUPp"
   },
   "outputs": [],
   "source": []
  }
 ],
 "metadata": {
  "accelerator": "GPU",
  "colab": {
   "collapsed_sections": [],
   "name": "Defect segmentation on Textured Surfaces - Solution.ipynb",
   "provenance": [],
   "version": "0.3.2"
  },
  "kernelspec": {
   "display_name": "Python 3",
   "language": "python",
   "name": "python3"
  },
  "language_info": {
   "codemirror_mode": {
    "name": "ipython",
    "version": 3
   },
   "file_extension": ".py",
   "mimetype": "text/x-python",
   "name": "python",
   "nbconvert_exporter": "python",
   "pygments_lexer": "ipython3",
   "version": "3.7.3"
  }
 },
 "nbformat": 4,
 "nbformat_minor": 1
}
