{
 "cells": [
  {
   "cell_type": "markdown",
   "metadata": {
    "colab_type": "text",
    "id": "S-fSL1r2fQ7Z"
   },
   "source": [
    "We will use the Industrial Optical Inspection Dataset. \n",
    "The blocks given below will help you copy and unzip the data from google drive.\n",
    "\n",
    "---\n",
    "\n",
    "\n",
    "The dataset description can be found here : https://hci.iwr.uni-heidelberg.de/node/3616"
   ]
  },
  {
   "cell_type": "markdown",
   "metadata": {
    "colab_type": "text",
    "id": "DymbI5OJIuFF"
   },
   "source": [
    "# Google Colab\n",
    "Set the Runtime to GPU from the menu on the top left of this webpage\n",
    "\n",
    "Importing data to Google Colab"
   ]
  },
  {
   "cell_type": "code",
   "execution_count": 1,
   "metadata": {
    "colab": {
     "base_uri": "https://localhost:8080/",
     "height": 122
    },
    "colab_type": "code",
    "executionInfo": {
     "elapsed": 21629,
     "status": "ok",
     "timestamp": 1555293869364,
     "user": {
      "displayName": "Justin Hu",
      "photoUrl": "",
      "userId": "06581739243585697204"
     },
     "user_tz": 240
    },
    "id": "zDP8dGDEfHM2",
    "outputId": "fe63abf4-cbfe-46ef-e91a-ed6ecf6c6f18"
   },
   "outputs": [
    {
     "name": "stdout",
     "output_type": "stream",
     "text": [
      "Go to this URL in a browser: https://accounts.google.com/o/oauth2/auth?client_id=947318989803-6bn6qk8qdgf4n4g3pfee6491hc0brc4i.apps.googleusercontent.com&redirect_uri=urn%3Aietf%3Awg%3Aoauth%3A2.0%3Aoob&scope=email%20https%3A%2F%2Fwww.googleapis.com%2Fauth%2Fdocs.test%20https%3A%2F%2Fwww.googleapis.com%2Fauth%2Fdrive%20https%3A%2F%2Fwww.googleapis.com%2Fauth%2Fdrive.photos.readonly%20https%3A%2F%2Fwww.googleapis.com%2Fauth%2Fpeopleapi.readonly&response_type=code\n",
      "\n",
      "Enter your authorization code:\n",
      "··········\n",
      "Mounted at /content/gdrive\n"
     ]
    }
   ],
   "source": [
    "from google.colab import drive\n",
    "drive.mount('/content/gdrive')"
   ]
  },
  {
   "cell_type": "code",
   "execution_count": 0,
   "metadata": {
    "colab": {},
    "colab_type": "code",
    "id": "3on7wPL6mBF2"
   },
   "outputs": [],
   "source": [
    "# Copy data to google colab from google drive and unzip\n",
    "# This may take 1-2 minutes\n",
    "!cp gdrive/My\\ Drive/optical_data.zip .\n",
    "!unzip optical_data.zip"
   ]
  },
  {
   "cell_type": "code",
   "execution_count": 0,
   "metadata": {
    "colab": {
     "base_uri": "https://localhost:8080/",
     "height": 34
    },
    "colab_type": "code",
    "executionInfo": {
     "elapsed": 2210,
     "status": "ok",
     "timestamp": 1555128690926,
     "user": {
      "displayName": "Justin Hu",
      "photoUrl": "",
      "userId": "06581739243585697204"
     },
     "user_tz": 240
    },
    "id": "w_-5AVwxm7d5",
    "outputId": "6e0fcfa3-b344-4791-da8b-dd3b7d43d604"
   },
   "outputs": [
    {
     "name": "stdout",
     "output_type": "stream",
     "text": [
      "Class1\tClass2\tClass3\tClass4\tClass5\tClass6\tClass7\n"
     ]
    }
   ],
   "source": [
    "# You should be able to see 7 Classes here\n",
    "!ls data"
   ]
  },
  {
   "cell_type": "markdown",
   "metadata": {
    "colab_type": "text",
    "id": "HkvMl2Mt-BrB"
   },
   "source": [
    "Sample Output : Class1 Class2\tClass3\tClass4\tClass5\tClass6\tClass7"
   ]
  },
  {
   "cell_type": "markdown",
   "metadata": {
    "colab_type": "text",
    "id": "H-GSOCv7ImGM"
   },
   "source": [
    "# Main Notebook"
   ]
  },
  {
   "cell_type": "code",
   "execution_count": 0,
   "metadata": {
    "colab": {
     "base_uri": "https://localhost:8080/",
     "height": 34
    },
    "colab_type": "code",
    "executionInfo": {
     "elapsed": 4581,
     "status": "ok",
     "timestamp": 1555128697516,
     "user": {
      "displayName": "Justin Hu",
      "photoUrl": "",
      "userId": "06581739243585697204"
     },
     "user_tz": 240
    },
    "id": "2p453M9kewcU",
    "outputId": "ce25e1f1-e6e6-47b2-fb13-d43412a8b8e8"
   },
   "outputs": [
    {
     "name": "stderr",
     "output_type": "stream",
     "text": [
      "Using TensorFlow backend.\n"
     ]
    }
   ],
   "source": [
    "import os\n",
    "import sys\n",
    "import time\n",
    "import warnings\n",
    "from random import shuffle\n",
    "\n",
    "import numpy as np\n",
    "import pandas as pd\n",
    "from keras.callbacks import ModelCheckpoint, EarlyStopping\n",
    "from keras.optimizers import Adam\n",
    "from tensorflow.python.lib.io import file_io\n",
    "from skimage.transform import resize\n",
    "import numpy as np\n",
    "import keras\n",
    "from keras import backend as K\n",
    "import cv2\n",
    "\n",
    "warnings.filterwarnings(\"ignore\")\n"
   ]
  },
  {
   "cell_type": "markdown",
   "metadata": {
    "colab_type": "text",
    "id": "P6Rilzb2Lnhz"
   },
   "source": [
    "# Data Loading"
   ]
  },
  {
   "cell_type": "code",
   "execution_count": 0,
   "metadata": {
    "colab": {},
    "colab_type": "code",
    "id": "PFUOmRq1hChy"
   },
   "outputs": [],
   "source": [
    "# Not all data in the dataset has defects. We only use the images which have defects\n",
    "# This function takes the dataset_type as a parameter. You can pass \"Train\" or \"Test\"\n",
    "# as argument to get the appropriate dataset\n",
    "def load_data(dataset_type=\"Train\"):\n",
    "    file_list = {}\n",
    "    defect_map = {}\n",
    "    file_name = []\n",
    "    file_mask = []\n",
    "    count = 0\n",
    "    num_classes = 6\n",
    "\n",
    "    data_dir = \"data\"\n",
    "    for x in range(1, num_classes + 1):\n",
    "        path = os.path.join(os.path.join(data_dir, \"Class\" + str(x)), dataset_type)\n",
    "        df = pd.read_fwf(path + \"/Label/Labels.txt\")\n",
    "        count = 0\n",
    "        for i in range(0, len(df)):\n",
    "            curr_file = path + \"/\" + str(df.iloc[i][2])\n",
    "            if (df.iloc[i][1] == 1):\n",
    "                file_list[curr_file] = path + \"/Label/\" + str(df.iloc[i][4])\n",
    "                defect_map[curr_file] = 1\n",
    "            else:\n",
    "                fnametest = str(df.iloc[i][2]).split(\".\")\n",
    "                file_list[curr_file] = str(path + \"/Label/\" + fnametest[0] + \"_label.PNG\")\n",
    "                defect_map[curr_file] = 0\n",
    "\n",
    "    items = list(file_list.keys())\n",
    "    shuffle(items)\n",
    "    for key in items:\n",
    "        if ((not os.path.exists(key)) or (not os.path.exists(file_list[key]))):\n",
    "            # print (\"Missing mask for \", key)\n",
    "            continue\n",
    "\n",
    "        if defect_map[key] == 1:\n",
    "            file_name.append(key)\n",
    "            file_mask.append(file_list[key])\n",
    "        elif count < 80 * num_classes:\n",
    "            file_name.append(key)\n",
    "            file_mask.append(file_list[key])\n",
    "            count = count + 1\n",
    "\n",
    "    return file_name, file_mask"
   ]
  },
  {
   "cell_type": "markdown",
   "metadata": {
    "colab_type": "text",
    "id": "YMvNNG8nLq1N"
   },
   "source": [
    "Since the dataset is so large that it cannot fit into memory, we will need to use generator functions to iteratively load the dataset"
   ]
  },
  {
   "cell_type": "code",
   "execution_count": 0,
   "metadata": {
    "colab": {},
    "colab_type": "code",
    "id": "0AO5Je2_iyjI"
   },
   "outputs": [],
   "source": [
    "# This is generator class to process data in batches and send them for training\n",
    "class Surface_Generator(keras.utils.Sequence):\n",
    "\n",
    "    def __init__(self, image_filenames, labels, batch_size, test=False):\n",
    "        self.image_filenames, self.labels = image_filenames, labels\n",
    "        self.batch_size = batch_size\n",
    "\n",
    "    # return the total number of batches you have i.e., total_files/batch_size\n",
    "    def __len__(self):\n",
    "        # YOUR CODE HERE\n",
    "        return int(np.ceil(len(self.image_filenames) / float(self.batch_size)))\n",
    "\n",
    "    # this function is called for every mini-batch to get the images/masks for that mini-batch\n",
    "    def __getitem__(self, idx):\n",
    "        batch_x = self.image_filenames[idx * self.batch_size:(idx + 1) * self.batch_size]\n",
    "        batch_y = self.labels[idx * self.batch_size:(idx + 1) * self.batch_size]\n",
    "        image_arr = []\n",
    "        mask_arr = []\n",
    "        # Open a batch of images and their corresponding masks using cv2.imread\n",
    "        # resize them to 512x512x1 and return an np.array of images and masks\n",
    "        # YOUR CODE HERE\n",
    "        for filename in batch_x:\n",
    "          image_arr.append(resize(cv2.imread(filename),(512,512,1)))\n",
    "        for label in batch_y:\n",
    "          mask_arr.append(resize(cv2.imread(filename),(512,512,1)))\n",
    "        return np.array(image_arr).astype(np.float32), np.array(mask_arr).astype(np.float32)\n",
    "    \n",
    "    # for testing we need to get the list of all true masks\n",
    "    # this function should return all the labels in the dataset set \n",
    "    # we will call this function only for the \"Test\" dataset\n",
    "    def get_all_masks(self):\n",
    "        mask_arr = []\n",
    "        for filename in self.labels:\n",
    "          mask_arr.append(resize(cv2.imread(filename),(512,512,1)))\n",
    "\n",
    "        return np.array(mask_arr).astype(np.float32)\n"
   ]
  },
  {
   "cell_type": "code",
   "execution_count": 0,
   "metadata": {
    "colab": {},
    "colab_type": "code",
    "id": "dt-r8DWtiXb8"
   },
   "outputs": [],
   "source": [
    "# Since we already have a split for training and test set,\n",
    "# we just need to split training set to get a validation set\n",
    "\n",
    "# Load training data\n",
    "X, Y = load_data(\"Train\")"
   ]
  },
  {
   "cell_type": "code",
   "execution_count": 0,
   "metadata": {
    "colab": {
     "base_uri": "https://localhost:8080/",
     "height": 34
    },
    "colab_type": "code",
    "executionInfo": {
     "elapsed": 1524,
     "status": "ok",
     "timestamp": 1555128713805,
     "user": {
      "displayName": "Justin Hu",
      "photoUrl": "",
      "userId": "06581739243585697204"
     },
     "user_tz": 240
    },
    "id": "yCCf5m26iZ4-",
    "outputId": "66d8e418-a0b1-44ca-9967-8c06dcee45fe"
   },
   "outputs": [
    {
     "name": "stdout",
     "output_type": "stream",
     "text": [
      "(740,) (740,) (186,) (186,)\n"
     ]
    }
   ],
   "source": [
    "# Split the original training data to get training and validation set\n",
    "# to get X_train, X_val, y_train, y_val\n",
    "# YOUR CODE HERE\n",
    "from sklearn.model_selection import train_test_split\n",
    "X_train, X_val = train_test_split(X,test_size=0.2, random_state = 1)\n",
    "y_train, y_val = train_test_split(Y,test_size=0.2, random_state = 1)\n",
    "\n",
    "# Convert to numpy arrays\n",
    "# YOUR CODE HERE\n",
    "X_train = np.asarray(X_train)\n",
    "X_val = np.asarray(X_val)\n",
    "y_train = np.asarray(y_train)\n",
    "y_val = np.asarray(y_val)\n",
    "\n",
    "print(X_train.shape, y_train.shape, X_val.shape, y_val.shape)"
   ]
  },
  {
   "cell_type": "markdown",
   "metadata": {
    "colab_type": "text",
    "id": "pzVG7OlIKzPC"
   },
   "source": [
    "The output shape after the split should be \n",
    "(740,) (740,) (186,) (186,)"
   ]
  },
  {
   "cell_type": "code",
   "execution_count": 0,
   "metadata": {
    "colab": {
     "base_uri": "https://localhost:8080/",
     "height": 34
    },
    "colab_type": "code",
    "executionInfo": {
     "elapsed": 1346,
     "status": "ok",
     "timestamp": 1555128721484,
     "user": {
      "displayName": "Justin Hu",
      "photoUrl": "",
      "userId": "06581739243585697204"
     },
     "user_tz": 240
    },
    "id": "TuWAS7_Qt7xw",
    "outputId": "fa6dfc0f-ded2-43b8-a9dd-7a8b40aaa12a"
   },
   "outputs": [
    {
     "data": {
      "text/plain": [
       "43"
      ]
     },
     "execution_count": 9,
     "metadata": {
      "tags": []
     },
     "output_type": "execute_result"
    }
   ],
   "source": [
    "# Free memory\n",
    "import gc\n",
    "del X\n",
    "del Y\n",
    "gc.collect()"
   ]
  },
  {
   "cell_type": "markdown",
   "metadata": {
    "colab_type": "text",
    "id": "Pg95L-qULPUY"
   },
   "source": [
    "# Metrics\n",
    "\n",
    "Use keras.backend to calculate dice coefficient metric and dice coefficient loss function.\n",
    "\n",
    "Recall that dice_coeff = 2 \\* intersection / union\n",
    "\n",
    "We add a smoothing parameter and modify the formula to\n",
    "\n",
    "dice_coeff = 2 \\* (intersection + smooth) / (union + smooth)\n",
    "\n",
    "Our objective is to make dice_coeff as close to 1.0 as possible. \n",
    "Define and use the appropriate loss function."
   ]
  },
  {
   "cell_type": "code",
   "execution_count": 0,
   "metadata": {
    "colab": {},
    "colab_type": "code",
    "id": "JwdFSKS-jB8S"
   },
   "outputs": [],
   "source": [
    "# Dice Coefficient metric\n",
    "def dice_coef(y_true, y_pred):\n",
    "    smooth = 1\n",
    "    # YOUR CODE HERE\n",
    "    y_true_f = K.flatten(y_true)\n",
    "    y_pred_f = K.flatten(y_pred)\n",
    "    intersection = K.sum(y_true_f * y_pred_f)\n",
    "    return (2. * intersection + smooth) / (K.sum(y_true_f) + K.sum(y_pred_f) + smooth)\n",
    "\n",
    "\n",
    "# Dice Coefficient loss\n",
    "def dice_coef_loss(y_true, y_pred):\n",
    "    # YOUR CODE HERE\n",
    "    return (1. -dice_coef(y_true, y_pred))"
   ]
  },
  {
   "cell_type": "markdown",
   "metadata": {
    "colab_type": "text",
    "id": "Pynq8QkQMQfV"
   },
   "source": [
    "# Model\n",
    "\n",
    "U-net architeture has proved to be very powerful for segmentation tasks.\n",
    "\n",
    "We will be creating a Unet model based on the paper : \n",
    "\n",
    "[U-Net: Convolutional Networks for Biomedical Image Segmentation](https://arxiv.org/pdf/1505.04597.pdf)\n",
    "\n",
    "---\n",
    "\n",
    "A picture of the architecture we plan to use is provided in the project description pdf.\n",
    "\n",
    "We will create a Convolutional block module to help us build the model.\n",
    "\n",
    "Each convolutional block module will contain two trainable layers. \n",
    "\n",
    "Each layer will be a Convolution operation followed by batch normalization with relu activation.\n",
    "\n",
    "\n",
    "\n",
    "The U-net architecture has a contracting path, a convolution and then an expansive path.\n",
    "\n",
    "We will use instances of the convolutional block to create the contracting and expansive path."
   ]
  },
  {
   "cell_type": "code",
   "execution_count": 0,
   "metadata": {
    "colab": {},
    "colab_type": "code",
    "id": "NmHn08ChjWNq"
   },
   "outputs": [],
   "source": [
    "from keras.layers import Conv2DTranspose, Dropout, Activation, BatchNormalization, UpSampling2D, Concatenate,concatenate\n",
    "from keras.layers import Input, Conv2D, MaxPooling2D, concatenate\n",
    "from keras.models import Model\n",
    "\n",
    "# Create a 2D convolution block. We will use multiple instances of this block to build our U-net model\n",
    "# This block will contain two layers. \n",
    "# Each layer will be a Convolution operation followed by batch normalization with relu activation \n",
    "def conv2d_block(input_tensor, n_filters, kernel_size):\n",
    "    # first layer\n",
    "    # Create a Conv2D layer with n_filters and a kernel of dimension : kernel_size x kernel_size. \n",
    "    # Use same padding and he_normal initializer\n",
    "    # YOUR CODE HERE\n",
    "    x = Conv2D(n_filters, (kernel_size,kernel_size), padding = 'same', kernel_initializer = 'he_normal')(input_tensor)\n",
    "    \n",
    "    # add a BatchNormalization layer\n",
    "    # YOUR CODE HERE\n",
    "    x = BatchNormalization()(x)\n",
    "        \n",
    "    # Add a relu non-linearity (keras.layers.Activation)\n",
    "    # YOUR CODE HERE\n",
    "    x = Activation(\"relu\")(x)\n",
    "    \n",
    "    # second layer\n",
    "    # repeat the above steps (Conv + batchnorm + relu) taking the output of relu layer as input for this convolutional layer\n",
    "    # YOUR CODE HERE\n",
    "    x = Conv2D(n_filters, (kernel_size,kernel_size), padding = 'same', kernel_initializer = 'he_normal')(x)\n",
    "    x = BatchNormalization()(x)\n",
    "    x = Activation(\"relu\")(x)\n",
    "    \n",
    "    # return the output tensor\n",
    "    return x\n",
    "\n",
    "\n",
    "def get_unet_model(n_filters=16, dropout_prob=0.5, kernel_size=3):\n",
    "    input_img = Input((512, 512, 1))\n",
    "    \n",
    "    # contracting path\n",
    "    # create a convolutional block with input_img as the input tensor and n_filters\n",
    "    # YOUR CODE HERE\n",
    "    c1 = conv2d_block(input_img, n_filters, kernel_size)\n",
    "\n",
    "    # apply a 2d maxpooling with a pool size of 2x2\n",
    "    # YOUR CODE HERE\n",
    "    p1 = MaxPooling2D(pool_size=(2, 2))(c1)\n",
    "\n",
    "    # add a dropout. Since this the input, set the dropout rate to 0.5 * dropout_prob\n",
    "    # YOUR CODE HERE\n",
    "    p1 = Dropout(rate = 0.5*dropout_prob)(p1)\n",
    "\n",
    "\n",
    "    # create another convolutional block. this time use p1 as input tensor and twice the n_filters\n",
    "    # repeat the same maxpool and dropout but set dropout rate to dropout_prob this time\n",
    "    # YOUR CODE HERE\n",
    "    c2 = conv2d_block(p1, 2*n_filters, kernel_size)\n",
    "    p2 = MaxPooling2D(pool_size=(2, 2))(c2)\n",
    "    p2 = Dropout(rate = dropout_prob)(p2)\n",
    "\n",
    "    # create another block with maxpool and dropout with 4 x n_filters\n",
    "    # YOUR CODE HERE\n",
    "    c3 = conv2d_block(p2, 4*n_filters, kernel_size)\n",
    "    p3 = MaxPooling2D(pool_size=(2, 2))(c3)\n",
    "    p3 = Dropout(rate = dropout_prob)(p3)\n",
    "\n",
    "    # create another block with maxpool and dropout with 8 x n_filters\n",
    "    # YOUR CODE HERE\n",
    "    c4 = conv2d_block(p3, 8*n_filters, kernel_size)\n",
    "    p4 = MaxPooling2D(pool_size=(2, 2))(c4)\n",
    "    p4 = Dropout(rate = dropout_prob)(p4)\n",
    "\n",
    "\n",
    "    # This is the layer where we combine the contractive and expansive paths\n",
    "    # create a convolutional block with 16 x n_filters. No pooling/dropout this time\n",
    "    # YOUR CODE HERE\n",
    "    c5 = conv2d_block(p4, 16*n_filters, kernel_size)\n",
    "\n",
    "    \n",
    "    # Expansive path\n",
    "\n",
    "    # We will create a similar structure as the contracting path but instead of \n",
    "    # convolutional operation, we will use Deconvolution operations\n",
    "\n",
    "    # Create a Conv2DTranspose layer (deconvolution) with 8 x n_filters, kernel_size, \n",
    "    # 2x2 strides and same padding\n",
    "    # YOUR CODE HERE\n",
    "    u6 = Conv2DTranspose(8*n_filters, (3,3), strides=(2, 2), padding='same')(c5) \n",
    "\n",
    "    # Concatenate u6 and c4 using keras.layers.concatenate\n",
    "    # YOUR CODE HERE\n",
    "    u6 = concatenate([u6,c4],axis=3)\n",
    "    \n",
    "    # dropout\n",
    "    # YOUR CODE HERE\n",
    "    u6 = Dropout(rate = dropout_prob)(u6)\n",
    "    \n",
    "    # create a convolutional block with 8 x n_filters\n",
    "    # YOUR CODE HERE\n",
    "    c6 = conv2d_block(u6, 8*n_filters, kernel_size)\n",
    "    \n",
    "\n",
    "    # Create a similar module as previous, deconv, concatenate, dropout, conv2d_block\n",
    "    # Please ensure that the number of filters you use match the n_filters of \n",
    "    # the layer you are concatenating with\n",
    "    # YOUR CODE HERE\n",
    "    u7 = Conv2DTranspose(4*n_filters, (3,3), strides=(2, 2), padding='same')(c6)\n",
    "    u7 = concatenate([u7,c3],axis=3)\n",
    "    u7 = Dropout(rate = dropout_prob)(u7)\n",
    "    c7 = conv2d_block(u7, 4*n_filters, kernel_size)\n",
    "    \n",
    "    # Create a similar module as previous, deconv, concatenate, dropout, conv2d_block\n",
    "    # YOUR CODE HERE\n",
    "    u8 = Conv2DTranspose(2*n_filters, (3,3), strides=(2, 2), padding='same')(c7)\n",
    "    u8 = concatenate([u8,c2],axis=3)\n",
    "    u8 = Dropout(rate = dropout_prob)(u8)\n",
    "    c8 = conv2d_block(u8, 2*n_filters, kernel_size)\n",
    "\n",
    "\n",
    "    # Create a similar module as previous, deconv, concatenate, dropout, conv2d_block\n",
    "    # YOUR CODE HERE\n",
    "    u9 = Conv2DTranspose(n_filters, (3,3), strides=(2, 2), padding='same')(c8)\n",
    "    u9 = concatenate([u9,c1],axis=3)\n",
    "    u9 = Dropout(rate = dropout_prob)(u9)\n",
    "    c9 = conv2d_block(u9, n_filters, kernel_size)\n",
    "\n",
    "    # apply a 1x1 convolution on c9 to get an output with a single channel\n",
    "    # This is the final model output. We want the pixel values in the mask to be\n",
    "    # either 0 or 1. Choose an activation function which can give values in that\n",
    "    # range.\n",
    "    # YOUR CODE HERE\n",
    "    outputs = Conv2D(1,(1,1),activation = 'sigmoid')(c9)\n",
    "\n",
    "    model = Model(inputs=[input_img], outputs=[outputs])\n",
    "\n",
    "    return model"
   ]
  },
  {
   "cell_type": "code",
   "execution_count": 0,
   "metadata": {
    "colab": {
     "base_uri": "https://localhost:8080/",
     "height": 139
    },
    "colab_type": "code",
    "executionInfo": {
     "elapsed": 4996,
     "status": "ok",
     "timestamp": 1555128737454,
     "user": {
      "displayName": "Justin Hu",
      "photoUrl": "",
      "userId": "06581739243585697204"
     },
     "user_tz": 240
    },
    "id": "9JBg48_qiQ_R",
    "outputId": "d1047084-c87c-4bb5-88ff-874f99b71dd1"
   },
   "outputs": [
    {
     "name": "stdout",
     "output_type": "stream",
     "text": [
      "WARNING:tensorflow:From /usr/local/lib/python3.6/dist-packages/tensorflow/python/framework/op_def_library.py:263: colocate_with (from tensorflow.python.framework.ops) is deprecated and will be removed in a future version.\n",
      "Instructions for updating:\n",
      "Colocations handled automatically by placer.\n",
      "WARNING:tensorflow:From /usr/local/lib/python3.6/dist-packages/keras/backend/tensorflow_backend.py:3445: calling dropout (from tensorflow.python.ops.nn_ops) with keep_prob is deprecated and will be removed in a future version.\n",
      "Instructions for updating:\n",
      "Please use `rate` instead of `keep_prob`. Rate should be set to `rate = 1 - keep_prob`.\n"
     ]
    }
   ],
   "source": [
    "model_name = \"unet\"\n",
    "model = get_unet_model()"
   ]
  },
  {
   "cell_type": "code",
   "execution_count": 0,
   "metadata": {
    "colab": {},
    "colab_type": "code",
    "id": "motKXf_TiUKg"
   },
   "outputs": [],
   "source": [
    "batch_size = 8\n",
    "num_epochs = 50\n",
    "# Compile the model\n",
    "model.compile(loss=dice_coef_loss, optimizer=Adam(lr=0.0055), metrics=[dice_coef])"
   ]
  },
  {
   "cell_type": "code",
   "execution_count": 0,
   "metadata": {
    "colab": {},
    "colab_type": "code",
    "id": "ewQjQjWyqq-e"
   },
   "outputs": [],
   "source": [
    "# Create generator objects for training and validation\n",
    "num_training_samples = len(X_train)\n",
    "num_validation_samples = len(X_val)\n",
    "# YOUR CODE HERE\n",
    "training_batch_generator = Surface_Generator(X_train, y_train, batch_size)\n",
    "validation_batch_generator = Surface_Generator(X_val, y_val, batch_size)"
   ]
  },
  {
   "cell_type": "code",
   "execution_count": 0,
   "metadata": {
    "colab": {},
    "colab_type": "code",
    "id": "_otO9PPuq2ED"
   },
   "outputs": [],
   "source": [
    "# OPTIONAL\n",
    "# callbacks for saving models and early stopping\n",
    "checkpointer = ModelCheckpoint(model_name + \"/weights.{epoch:02d}-{val_loss:.2f}.hdf5\", monitor=dice_coef, verbose=1,\n",
    "                               save_best_only=True, mode='max')\n",
    "early_stopping = EarlyStopping(monitor='val_loss', min_delta=0, patience=10, verbose=1, mode='auto')"
   ]
  },
  {
   "cell_type": "code",
   "execution_count": 0,
   "metadata": {
    "colab": {
     "base_uri": "https://localhost:8080/",
     "height": 561
    },
    "colab_type": "code",
    "executionInfo": {
     "elapsed": 1383411,
     "status": "ok",
     "timestamp": 1555130130714,
     "user": {
      "displayName": "Justin Hu",
      "photoUrl": "",
      "userId": "06581739243585697204"
     },
     "user_tz": 240
    },
    "id": "63cNn_B6q4fb",
    "outputId": "410f4c7b-823d-4c1e-c8ba-eafe49f526d2"
   },
   "outputs": [
    {
     "name": "stdout",
     "output_type": "stream",
     "text": [
      "Epoch 1/16\n",
      "92/92 [==============================] - 113s 1s/step - loss: 0.3982 - dice_coef: 0.6018 - val_loss: 0.4446 - val_dice_coef: 0.5554\n",
      "Epoch 2/16\n",
      "\n",
      "91/92 [============================>.] - ETA: 0s - loss: 0.3850 - dice_coef: 0.6150\n",
      "92/92 [==============================] - 98s 1s/step - loss: 0.3845 - dice_coef: 0.6155 - val_loss: 0.4103 - val_dice_coef: 0.5897\n",
      "Epoch 3/16\n",
      "92/92 [==============================] - 96s 1s/step - loss: 0.3819 - dice_coef: 0.6181 - val_loss: 0.4067 - val_dice_coef: 0.5933\n",
      "Epoch 4/16\n",
      "92/92 [==============================] - 96s 1s/step - loss: 0.3784 - dice_coef: 0.6216 - val_loss: 0.3978 - val_dice_coef: 0.6022\n",
      "Epoch 5/16\n",
      "92/92 [==============================] - 96s 1s/step - loss: 0.3857 - dice_coef: 0.6143 - val_loss: 0.4099 - val_dice_coef: 0.5901\n",
      "Epoch 6/16\n",
      "92/92 [==============================] - 96s 1s/step - loss: 0.3838 - dice_coef: 0.6162 - val_loss: 0.4148 - val_dice_coef: 0.5852\n",
      "Epoch 7/16\n",
      "92/92 [==============================] - 97s 1s/step - loss: 0.3783 - dice_coef: 0.6217 - val_loss: 0.3978 - val_dice_coef: 0.6022\n",
      "Epoch 8/16\n",
      "92/92 [==============================] - 98s 1s/step - loss: 0.3868 - dice_coef: 0.6132 - val_loss: 0.4107 - val_dice_coef: 0.5893\n",
      "Epoch 9/16\n",
      "92/92 [==============================] - 97s 1s/step - loss: 0.3702 - dice_coef: 0.6298 - val_loss: 0.4090 - val_dice_coef: 0.5910\n",
      "Epoch 10/16\n",
      "92/92 [==============================] - 98s 1s/step - loss: 0.3784 - dice_coef: 0.6216 - val_loss: 0.3985 - val_dice_coef: 0.6015\n",
      "Epoch 11/16\n",
      "92/92 [==============================] - 98s 1s/step - loss: 0.3792 - dice_coef: 0.6208 - val_loss: 0.4089 - val_dice_coef: 0.5911\n",
      "Epoch 12/16\n",
      "92/92 [==============================] - 99s 1s/step - loss: 0.3858 - dice_coef: 0.6142 - val_loss: 0.4049 - val_dice_coef: 0.5951\n",
      "Epoch 13/16\n",
      "92/92 [==============================] - 98s 1s/step - loss: 0.3765 - dice_coef: 0.6235 - val_loss: 0.4046 - val_dice_coef: 0.5954\n",
      "Epoch 14/16\n",
      "92/92 [==============================] - 98s 1s/step - loss: 0.3764 - dice_coef: 0.6236 - val_loss: 0.3986 - val_dice_coef: 0.6014\n",
      "Epoch 00014: early stopping\n",
      "Time taken:  1382812\n"
     ]
    }
   ],
   "source": [
    "# Fit model\n",
    "# This will take ~1.5-2 minutes per epoch on a GPU\n",
    "stmillis = int(round(time.time() * 1000))\n",
    "history = model.fit_generator(generator=training_batch_generator,\n",
    "                    steps_per_epoch=(num_training_samples // batch_size),\n",
    "                    epochs=num_epochs,\n",
    "                    verbose=1,\n",
    "                    validation_data=validation_batch_generator,\n",
    "                    validation_steps=(num_validation_samples // batch_size),\n",
    "                    use_multiprocessing=True,\n",
    "                    workers=5,\n",
    "                    max_queue_size=1,\n",
    "                    callbacks=[checkpointer, early_stopping])\n",
    "endmillis = int(round(time.time() * 1000))\n",
    "print(\"Time taken: \", endmillis - stmillis)"
   ]
  },
  {
   "cell_type": "code",
   "execution_count": 0,
   "metadata": {
    "colab": {},
    "colab_type": "code",
    "id": "3brG4OSvidg-"
   },
   "outputs": [],
   "source": [
    "# Save the trained weights\n",
    "model.save(model_name + \".h5\")\n",
    "\n",
    "# Save model config as json\n",
    "model_json = model.to_json()\n",
    "with open(model_name + \".json\", \"w\") as json_file:\n",
    "    json_file.write(model_json)\n",
    "\n",
    "# Persist the model to your google drive [VERY IMPORTANT]\n",
    "!cp unet.* gdrive/My\\ Drive/"
   ]
  },
  {
   "cell_type": "code",
   "execution_count": 0,
   "metadata": {
    "colab": {
     "base_uri": "https://localhost:8080/",
     "height": 51
    },
    "colab_type": "code",
    "executionInfo": {
     "elapsed": 4056,
     "status": "ok",
     "timestamp": 1555130298340,
     "user": {
      "displayName": "Justin Hu",
      "photoUrl": "",
      "userId": "06581739243585697204"
     },
     "user_tz": 240
    },
    "id": "gyQIv8vP-Bvr",
    "outputId": "97aea280-1707-4cc9-8717-a13a5e72fed2"
   },
   "outputs": [
    {
     "name": "stdout",
     "output_type": "stream",
     "text": [
      "-rw------- 1 root root    33708 Apr 13 04:38 'gdrive/My Drive/unet.json'\n",
      "-rw------- 1 root root 26259744 Apr 13 04:38 'gdrive/My Drive/unet.h5'\n"
     ]
    }
   ],
   "source": [
    "# Confirm if model did get saved\n",
    "!ls -ltr gdrive/My\\ Drive/unet*"
   ]
  },
  {
   "cell_type": "code",
   "execution_count": 0,
   "metadata": {
    "colab": {},
    "colab_type": "code",
    "id": "oXpPThkeAp30"
   },
   "outputs": [],
   "source": [
    "# In case you wish to load your saved model\n",
    "!cp gdrive/My\\ Drive/unet* .\n",
    "\n",
    "model.load_weights(\"unet.h5\")"
   ]
  },
  {
   "cell_type": "code",
   "execution_count": 0,
   "metadata": {
    "colab": {
     "base_uri": "https://localhost:8080/",
     "height": 34
    },
    "colab_type": "code",
    "executionInfo": {
     "elapsed": 3455,
     "status": "ok",
     "timestamp": 1555130331726,
     "user": {
      "displayName": "Justin Hu",
      "photoUrl": "",
      "userId": "06581739243585697204"
     },
     "user_tz": 240
    },
    "id": "hfVKLvOSinhR",
    "outputId": "2dd28695-6b15-40bf-add7-f109fc56c9cf"
   },
   "outputs": [
    {
     "name": "stdout",
     "output_type": "stream",
     "text": [
      "(454,) (454,)\n"
     ]
    }
   ],
   "source": [
    "import gc\n",
    "gc.collect()\n",
    "\n",
    "# Load test data in X_test and y_test\n",
    "# YOUR CODE HERE\n",
    "X_test, y_test = load_data(\"Test\")\n",
    "X_test = np.asarray(X_test)\n",
    "y_test = np.asarray(y_test)\n",
    "print (X_test.shape, y_test.shape)"
   ]
  },
  {
   "cell_type": "markdown",
   "metadata": {
    "colab_type": "text",
    "id": "T6Z-UydF9wFR"
   },
   "source": [
    "Output shape should be (454,) (454,)"
   ]
  },
  {
   "cell_type": "markdown",
   "metadata": {
    "colab_type": "text",
    "id": "xDvVIz7eVDeJ"
   },
   "source": [
    "[OPTIONAL] Shuffle and select 25 elements for quick testing\n"
   ]
  },
  {
   "cell_type": "code",
   "execution_count": 0,
   "metadata": {
    "colab": {},
    "colab_type": "code",
    "id": "JW2AcXfX4ok1"
   },
   "outputs": [],
   "source": [
    "np.random.seed = 629\n",
    "p = np.random.permutation(len(X_test))\n",
    "X_test = X_test[p]\n",
    "y_test = y_test[p]\n",
    "\n",
    "# X_test = X_test[:25]\n",
    "# y_test = y_test[:25]"
   ]
  },
  {
   "cell_type": "code",
   "execution_count": 0,
   "metadata": {
    "colab": {
     "base_uri": "https://localhost:8080/",
     "height": 34
    },
    "colab_type": "code",
    "executionInfo": {
     "elapsed": 45054,
     "status": "ok",
     "timestamp": 1555130383643,
     "user": {
      "displayName": "Justin Hu",
      "photoUrl": "",
      "userId": "06581739243585697204"
     },
     "user_tz": 240
    },
    "id": "WUDhmrOnzd1J",
    "outputId": "d814c32a-118d-41d3-a39b-8d630b2d9353"
   },
   "outputs": [
    {
     "name": "stdout",
     "output_type": "stream",
     "text": [
      "57/57 [==============================] - 44s 770ms/step\n"
     ]
    }
   ],
   "source": [
    "# Predict using model.predict_generator().\n",
    "# YOUR CODE HERE\n",
    "test_data_generator = Surface_Generator(X_test, y_test, batch_size)\n",
    "y_pred = model.predict_generator(test_data_generator,verbose=1)"
   ]
  },
  {
   "cell_type": "code",
   "execution_count": 0,
   "metadata": {
    "colab": {
     "base_uri": "https://localhost:8080/",
     "height": 34
    },
    "colab_type": "code",
    "executionInfo": {
     "elapsed": 30628,
     "status": "ok",
     "timestamp": 1555130415794,
     "user": {
      "displayName": "Justin Hu",
      "photoUrl": "",
      "userId": "06581739243585697204"
     },
     "user_tz": 240
    },
    "id": "y2yJe5T40aws",
    "outputId": "8b23d687-455c-4c59-b027-872cb923677b"
   },
   "outputs": [
    {
     "name": "stdout",
     "output_type": "stream",
     "text": [
      "Dice coefficient on test data:  0.058859862\n"
     ]
    }
   ],
   "source": [
    "# y_true will have the true masks\n",
    "y_true = test_data_generator.get_all_masks()\n",
    "print (\"Dice coefficient on test data: \", K.get_value(dice_coef(y_true, y_pred)))"
   ]
  },
  {
   "cell_type": "markdown",
   "metadata": {
    "colab_type": "text",
    "id": "rq51uM6fUoo8"
   },
   "source": [
    "The dice coefficient on test data should be close to 0.7\n",
    "\n"
   ]
  },
  {
   "cell_type": "markdown",
   "metadata": {
    "colab_type": "text",
    "id": "TVuJ6cCTfeXB"
   },
   "source": [
    "Visulaizing the mask for a random image"
   ]
  },
  {
   "cell_type": "code",
   "execution_count": 0,
   "metadata": {
    "colab": {},
    "colab_type": "code",
    "id": "kn447ZCDfAUd"
   },
   "outputs": [],
   "source": [
    "# Convert sigmoid outputs to binary class labels\n",
    "y_pred[20][y_pred[20] >= 0.5] = 1\n",
    "y_pred[20][y_pred[20] < 0.5] = 0"
   ]
  },
  {
   "cell_type": "code",
   "execution_count": 0,
   "metadata": {
    "colab": {
     "base_uri": "https://localhost:8080/",
     "height": 269
    },
    "colab_type": "code",
    "executionInfo": {
     "elapsed": 1398,
     "status": "ok",
     "timestamp": 1555130529768,
     "user": {
      "displayName": "Justin Hu",
      "photoUrl": "",
      "userId": "06581739243585697204"
     },
     "user_tz": 240
    },
    "id": "HmUZiALBJcie",
    "outputId": "459a0bf9-1297-4d89-9cd5-470df06169fe"
   },
   "outputs": [
    {
     "data": {
      "image/png": "[encoded data removed]",
      "text/plain": [
       "<Figure size 432x288 with 1 Axes>"
      ]
     },
     "metadata": {
      "tags": []
     },
     "output_type": "display_data"
    }
   ],
   "source": [
    "import matplotlib.pyplot as plt\n",
    "plt.imshow(y_true[20][:,:,0], cmap='gray')\n",
    "plt.show()"
   ]
  },
  {
   "cell_type": "code",
   "execution_count": 0,
   "metadata": {
    "colab": {
     "base_uri": "https://localhost:8080/",
     "height": 269
    },
    "colab_type": "code",
    "executionInfo": {
     "elapsed": 1247,
     "status": "ok",
     "timestamp": 1555130532739,
     "user": {
      "displayName": "Justin Hu",
      "photoUrl": "",
      "userId": "06581739243585697204"
     },
     "user_tz": 240
    },
    "id": "pn5Fkv9-JDiX",
    "outputId": "c973e341-b7ea-4bd0-a166-97f529a9db49"
   },
   "outputs": [
    {
     "data": {
      "image/png": "[encoded data removed]",
      "text/plain": [
       "<Figure size 432x288 with 1 Axes>"
      ]
     },
     "metadata": {
      "tags": []
     },
     "output_type": "display_data"
    }
   ],
   "source": [
    "plt.imshow(y_pred[20][:,:,0], cmap='gray')\n",
    "plt.show()"
   ]
  },
  {
   "cell_type": "code",
   "execution_count": 0,
   "metadata": {
    "colab": {
     "base_uri": "https://localhost:8080/",
     "height": 34
    },
    "colab_type": "code",
    "executionInfo": {
     "elapsed": 1393,
     "status": "ok",
     "timestamp": 1555130700776,
     "user": {
      "displayName": "Justin Hu",
      "photoUrl": "",
      "userId": "06581739243585697204"
     },
     "user_tz": 240
    },
    "id": "isCQ_Cxpehpj",
    "outputId": "d2c0f1c1-08e3-4e36-98d5-96f1c003df11"
   },
   "outputs": [
    {
     "data": {
      "text/plain": [
       "0.034552563"
      ]
     },
     "execution_count": 27,
     "metadata": {
      "tags": []
     },
     "output_type": "execute_result"
    }
   ],
   "source": [
    "# Dice coefficient on this example\n",
    "K.get_value(dice_coef(y_true[20], y_pred[20]))"
   ]
  },
  {
   "cell_type": "markdown",
   "metadata": {
    "colab_type": "text",
    "id": "Z9PebgnFu3Yu"
   },
   "source": [
    "Data augmentation techniques almost always help in improving the performance of deep learning models.\n",
    "\n",
    "\n",
    "Try beating the result obtained above by doing some kind of data augmentation and leave the code/results in the jupyter file.\n",
    "\n",
    "Provide the dice coefficient obtained on the new model trained with data augmentation.\n",
    "\n",
    "---\n",
    "\n",
    "# Experimentation Zone\n",
    "You may write any custom code here. The data augmentation part will be evaluated from this region."
   ]
  },
  {
   "cell_type": "code",
   "execution_count": 0,
   "metadata": {
    "colab": {},
    "colab_type": "code",
    "id": "mFL6rvc4yUPp"
   },
   "outputs": [],
   "source": [
    "def data_aug(filename1, filename2):\n",
    "    image1= resize(cv2.imread(filename),(512,512,1))\n",
    "    image2= resize(cv2.imread(filename),(512,512,1))\n",
    "\n",
    "    if np.random.randint(2):\n",
    "        image=cv2.flip(image,1)\n",
    "        imageB=cv2.flip(imageB,1)\n",
    "    \n",
    "    if np.random.randint(2):\n",
    "        imageB=cv2.flip(imageB,0)\n",
    "    # image=resize(image,(org_width,org_height))\n",
    "\n",
    "    return image1,image2"
   ]
  }
 ],
 "metadata": {
  "accelerator": "GPU",
  "colab": {
   "collapsed_sections": [],
   "name": "Defect_segmentation_on_Textured_Surfaces.ipynb",
   "provenance": [],
   "version": "0.3.2"
  },
  "kernelspec": {
   "display_name": "Python 3",
   "language": "python",
   "name": "python3"
  },
  "language_info": {
   "codemirror_mode": {
    "name": "ipython",
    "version": 3
   },
   "file_extension": ".py",
   "mimetype": "text/x-python",
   "name": "python",
   "nbconvert_exporter": "python",
   "pygments_lexer": "ipython3",
   "version": "3.7.0"
  }
 },
 "nbformat": 4,
 "nbformat_minor": 1
}
