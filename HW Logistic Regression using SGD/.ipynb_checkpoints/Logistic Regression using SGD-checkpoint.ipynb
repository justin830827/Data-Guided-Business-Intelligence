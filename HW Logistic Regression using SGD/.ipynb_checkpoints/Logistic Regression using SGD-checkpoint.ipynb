{
 "cells": [
  {
   "cell_type": "code",
   "execution_count": 1,
   "metadata": {},
   "outputs": [],
   "source": [
    "import numpy as np\n",
    "from sklearn.datasets import load_iris\n",
    "from sklearn import linear_model\n",
    "import random\n",
    "random.seed(123)"
   ]
  },
  {
   "cell_type": "code",
   "execution_count": 9,
   "metadata": {},
   "outputs": [],
   "source": [
    "# Using iris data as training dataset\n",
    "def load_test_data():\n",
    "    iris = load_iris()\n",
    "    X = iris.data  \n",
    "    y = iris.target\n",
    "    delete_index = []\n",
    "    # Remove the data label = 2. In other words, only keep class = 0,1 for simplicity.\n",
    "    for index in range(len(y)):\n",
    "        if y[index] == 2:\n",
    "            delete_index.append(index)\n",
    "    X = np.delete(X,delete_index,0)\n",
    "    y = np.delete(y,delete_index)\n",
    "    return X,y"
   ]
  },
  {
   "cell_type": "code",
   "execution_count": 10,
   "metadata": {},
   "outputs": [],
   "source": [
    "def sgd_class (X,y):\n",
    "    # Use for unit test\n",
    "    sgd = linear_model.SGDClassifier(loss= 'log',max_iter=1500, tol=0.001)\n",
    "    sgd.fit(X, y)\n",
    "    return sgd"
   ]
  },
  {
   "cell_type": "code",
   "execution_count": 11,
   "metadata": {},
   "outputs": [],
   "source": [
    "# Logistic Regression using SGD \n",
    "def logistic_regression(ws):\n",
    "    return 1 / (1 + np.exp(-ws))\n",
    "\n",
    "def sgd(X, y , w):\n",
    "    #Run randomly\n",
    "    index = random.randint(0, (len(y) - 1))\n",
    "    X = X[index]\n",
    "    y = y[index]\n",
    "    error = logistic_regression(w.T.dot(X))\n",
    "    gradient = (error - y) * X\n",
    "    return gradient"
   ]
  },
  {
   "cell_type": "code",
   "execution_count": 12,
   "metadata": {},
   "outputs": [],
   "source": [
    "def calculate_weight():\n",
    "    X,y = load_test_data()\n",
    "    w = np.zeros(4)\n",
    "    max_iteration = 1500 #update times\n",
    "    learning_rate = 0.0\n",
    "    for i in range(max_iteration):\n",
    "        w = w - learning_rate * sgd(X,y,w)\n",
    "        learning_rate = learning_rate*0.98\n",
    "    return w"
   ]
  },
  {
   "cell_type": "code",
   "execution_count": 13,
   "metadata": {},
   "outputs": [
    {
     "name": "stdout",
     "output_type": "stream",
     "text": [
      "Score of Logistic Regression using SGD:  1.0\n",
      "[0 0 0 0 0 0 0 0 0 0 0 0 0 0 0 0 0 0 0 0 0 0 0 0 0 0 0 0 0 0 0 0 0 0 0 0 0\n",
      " 0 0 0 0 0 0 0 0 0 0 0 0 0 1 1 1 1 1 1 1 1 1 1 1 1 1 1 1 1 1 1 1 1 1 1 1 1\n",
      " 1 1 1 1 1 1 1 1 1 1 1 1 1 1 1 1 1 1 1 1 1 1 1 1 1 1]\n"
     ]
    }
   ],
   "source": [
    "X,y = load_test_data()\n",
    "w = calculate_weight()\n",
    "predicted_y=[]\n",
    "for x in X:\n",
    "    predicted_y.append(logistic_regression(w.T.dot(x)))\n",
    "predicted_y = np.asarray(predicted_y)\n",
    "for i in range(len(predicted_y)):\n",
    "    if predicted_y[i] > 0.5:\n",
    "        predicted_y[i] = 1\n",
    "    else:\n",
    "        predicted_y[i] = 0\n",
    "\n",
    "print (\"Score of Logistic Regression using SGD: \",np.sum( y == predicted_y)/len(y))\n",
    "print (predicted_y.astype(int))"
   ]
  },
  {
   "cell_type": "code",
   "execution_count": 14,
   "metadata": {},
   "outputs": [
    {
     "name": "stdout",
     "output_type": "stream",
     "text": [
      "Score of Logistic Regression using SGDclassifier 1.0\n",
      "[0 0 0 0 0 0 0 0 0 0 0 0 0 0 0 0 0 0 0 0 0 0 0 0 0 0 0 0 0 0 0 0 0 0 0 0 0\n",
      " 0 0 0 0 0 0 0 0 0 0 0 0 0 1 1 1 1 1 1 1 1 1 1 1 1 1 1 1 1 1 1 1 1 1 1 1 1\n",
      " 1 1 1 1 1 1 1 1 1 1 1 1 1 1 1 1 1 1 1 1 1 1 1 1 1 1]\n"
     ]
    }
   ],
   "source": [
    "sgdlg = sgd_class(X,y)\n",
    "result = sgdlg.predict(X)\n",
    "print (\"Score of Logistic Regression using SGDclassifier\",sgdlg.score(X,y))\n",
    "print (result)"
   ]
  },
  {
   "cell_type": "code",
   "execution_count": 15,
   "metadata": {},
   "outputs": [
    {
     "data": {
      "text/plain": [
       "True"
      ]
     },
     "execution_count": 15,
     "metadata": {},
     "output_type": "execute_result"
    }
   ],
   "source": [
    "# unittest\n",
    "np.alltrue(result == predicted_y)"
   ]
  },
  {
   "cell_type": "code",
   "execution_count": null,
   "metadata": {},
   "outputs": [],
   "source": []
  }
 ],
 "metadata": {
  "kernelspec": {
   "display_name": "Python 3",
   "language": "python",
   "name": "python3"
  },
  "language_info": {
   "codemirror_mode": {
    "name": "ipython",
    "version": 3
   },
   "file_extension": ".py",
   "mimetype": "text/x-python",
   "name": "python",
   "nbconvert_exporter": "python",
   "pygments_lexer": "ipython3",
   "version": "3.7.0"
  }
 },
 "nbformat": 4,
 "nbformat_minor": 2
}
